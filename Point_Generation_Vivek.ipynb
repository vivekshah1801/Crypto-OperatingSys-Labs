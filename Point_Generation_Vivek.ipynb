{
 "cells": [
  {
   "cell_type": "markdown",
   "metadata": {},
   "source": [
    "# Point Generation for ECC elgamal\n",
    "@author Vivek H Shah"
   ]
  },
  {
   "cell_type": "code",
   "execution_count": 5,
   "metadata": {},
   "outputs": [],
   "source": [
    "import math"
   ]
  },
  {
   "cell_type": "code",
   "execution_count": 23,
   "metadata": {},
   "outputs": [
    {
     "name": "stdout",
     "output_type": "stream",
     "text": [
      "Squareroot is 99988\n"
     ]
    },
    {
     "data": {
      "text/plain": [
       "True"
      ]
     },
     "execution_count": 23,
     "metadata": {},
     "output_type": "execute_result"
    }
   ],
   "source": [
    "def isperfectsquare(n):\n",
    "    limit = int(math.sqrt(n) + 1)\n",
    "    for i in range(2,limit):\n",
    "        if (i**2 == n):\n",
    "            print(\"Squareroot is \" + str(i))\n",
    "            return True\n",
    "    return False\n",
    "\n",
    "isperfectsquare(9997600144)"
   ]
  },
  {
   "cell_type": "code",
   "execution_count": 25,
   "metadata": {},
   "outputs": [
    {
     "name": "stdout",
     "output_type": "stream",
     "text": [
      "Squareroot is 26\n",
      "Squareroot is 22\n",
      "Squareroot is 6\n",
      "Squareroot is 2\n",
      "Squareroot is 5\n",
      "Squareroot is 14\n"
     ]
    },
    {
     "data": {
      "text/plain": [
       "[(1, 26), (2, 22), (3, 6), (5, 2), (7, 5), (8, 14)]"
      ]
     },
     "execution_count": 25,
     "metadata": {},
     "output_type": "execute_result"
    }
   ],
   "source": [
    "def generatePoints(p,a,b):\n",
    "    l = []\n",
    "    for i in range(1,10):\n",
    "        squared = (i**3 + a*i + b)%p\n",
    "        if(isperfectsquare(squared)):\n",
    "            l.append((i,int(math.sqrt(squared))))\n",
    "        else:\n",
    "            check = squared + p\n",
    "            while(check<=(p**2)):\n",
    "                if(isperfectsquare(check)):\n",
    "                    l.append((i,int(math.sqrt(check))))\n",
    "                    break\n",
    "                else:\n",
    "                    check = check + p\n",
    "    return l\n",
    "generatePoints(67,2,3)"
   ]
  },
  {
   "cell_type": "code",
   "execution_count": null,
   "metadata": {},
   "outputs": [],
   "source": []
  }
 ],
 "metadata": {
  "kernelspec": {
   "display_name": "Python 3",
   "language": "python",
   "name": "python3"
  },
  "language_info": {
   "codemirror_mode": {
    "name": "ipython",
    "version": 3
   },
   "file_extension": ".py",
   "mimetype": "text/x-python",
   "name": "python",
   "nbconvert_exporter": "python",
   "pygments_lexer": "ipython3",
   "version": "3.6.5"
  }
 },
 "nbformat": 4,
 "nbformat_minor": 2
}
